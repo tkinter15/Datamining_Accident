{
 "cells": [
  {
   "cell_type": "markdown",
   "id": "46b3c2fc-4892-4aa7-8867-69a650656a7b",
   "metadata": {},
   "source": [
    "<h1>DATA ANALYTICS PROJECT</h1>"
   ]
  },
  {
   "cell_type": "markdown",
   "id": "e6813edc-1d1e-4124-a359-0429b4910b0f",
   "metadata": {},
   "source": [
    "<h2>United Kingdom Road Accident Data Analysis</h2>"
   ]
  },
  {
   "cell_type": "markdown",
   "id": "7237923c-c416-49d7-a1cf-b478ad9765c8",
   "metadata": {},
   "source": [
    "<h3>Inclusive years: 2019 - 2022</h3>"
   ]
  },
  {
   "cell_type": "code",
   "execution_count": 1,
   "id": "7018528b-3a7f-4e80-95e2-5db7c8551430",
   "metadata": {},
   "outputs": [
    {
     "name": "stdout",
     "output_type": "stream",
     "text": [
      "Defaulting to user installation because normal site-packages is not writeable\n",
      "Requirement already satisfied: numpy in c:\\users\\lab5-studentpc05\\appdata\\local\\packages\\pythonsoftwarefoundation.python.3.13_qbz5n2kfra8p0\\localcache\\local-packages\\python313\\site-packages (2.2.2)\n",
      "Note: you may need to restart the kernel to use updated packages.\n"
     ]
    },
    {
     "name": "stderr",
     "output_type": "stream",
     "text": [
      "\n",
      "[notice] A new release of pip is available: 24.3.1 -> 25.0.1\n",
      "[notice] To update, run: C:\\Users\\LAB5-StudentPC05\\AppData\\Local\\Microsoft\\WindowsApps\\PythonSoftwareFoundation.Python.3.13_qbz5n2kfra8p0\\python.exe -m pip install --upgrade pip\n"
     ]
    }
   ],
   "source": [
    "pip install numpy"
   ]
  },
  {
   "cell_type": "code",
   "execution_count": 2,
   "id": "6835b7ef-5d12-45a5-ba30-a031d616f8d7",
   "metadata": {},
   "outputs": [
    {
     "name": "stdout",
     "output_type": "stream",
     "text": [
      "Defaulting to user installation because normal site-packages is not writeable\n",
      "Requirement already satisfied: pandas in c:\\users\\lab5-studentpc05\\appdata\\local\\packages\\pythonsoftwarefoundation.python.3.13_qbz5n2kfra8p0\\localcache\\local-packages\\python313\\site-packages (2.2.3)\n",
      "Requirement already satisfied: numpy>=1.26.0 in c:\\users\\lab5-studentpc05\\appdata\\local\\packages\\pythonsoftwarefoundation.python.3.13_qbz5n2kfra8p0\\localcache\\local-packages\\python313\\site-packages (from pandas) (2.2.2)\n",
      "Requirement already satisfied: python-dateutil>=2.8.2 in c:\\users\\lab5-studentpc05\\appdata\\local\\packages\\pythonsoftwarefoundation.python.3.13_qbz5n2kfra8p0\\localcache\\local-packages\\python313\\site-packages (from pandas) (2.9.0.post0)\n",
      "Requirement already satisfied: pytz>=2020.1 in c:\\users\\lab5-studentpc05\\appdata\\local\\packages\\pythonsoftwarefoundation.python.3.13_qbz5n2kfra8p0\\localcache\\local-packages\\python313\\site-packages (from pandas) (2024.2)\n",
      "Requirement already satisfied: tzdata>=2022.7 in c:\\users\\lab5-studentpc05\\appdata\\local\\packages\\pythonsoftwarefoundation.python.3.13_qbz5n2kfra8p0\\localcache\\local-packages\\python313\\site-packages (from pandas) (2024.2)\n",
      "Requirement already satisfied: six>=1.5 in c:\\users\\lab5-studentpc05\\appdata\\local\\packages\\pythonsoftwarefoundation.python.3.13_qbz5n2kfra8p0\\localcache\\local-packages\\python313\\site-packages (from python-dateutil>=2.8.2->pandas) (1.17.0)\n",
      "Note: you may need to restart the kernel to use updated packages.\n"
     ]
    },
    {
     "name": "stderr",
     "output_type": "stream",
     "text": [
      "\n",
      "[notice] A new release of pip is available: 24.3.1 -> 25.0.1\n",
      "[notice] To update, run: C:\\Users\\LAB5-StudentPC05\\AppData\\Local\\Microsoft\\WindowsApps\\PythonSoftwareFoundation.Python.3.13_qbz5n2kfra8p0\\python.exe -m pip install --upgrade pip\n"
     ]
    }
   ],
   "source": [
    "pip install pandas"
   ]
  },
  {
   "cell_type": "code",
   "execution_count": 3,
   "id": "6cdb307c-8701-47f8-959e-cce323c59f0a",
   "metadata": {},
   "outputs": [
    {
     "name": "stdout",
     "output_type": "stream",
     "text": [
      "Defaulting to user installation because normal site-packages is not writeable\n",
      "Requirement already satisfied: seaborn in c:\\users\\lab5-studentpc05\\appdata\\local\\packages\\pythonsoftwarefoundation.python.3.13_qbz5n2kfra8p0\\localcache\\local-packages\\python313\\site-packages (0.13.2)\n",
      "Requirement already satisfied: numpy!=1.24.0,>=1.20 in c:\\users\\lab5-studentpc05\\appdata\\local\\packages\\pythonsoftwarefoundation.python.3.13_qbz5n2kfra8p0\\localcache\\local-packages\\python313\\site-packages (from seaborn) (2.2.2)\n",
      "Requirement already satisfied: pandas>=1.2 in c:\\users\\lab5-studentpc05\\appdata\\local\\packages\\pythonsoftwarefoundation.python.3.13_qbz5n2kfra8p0\\localcache\\local-packages\\python313\\site-packages (from seaborn) (2.2.3)\n",
      "Requirement already satisfied: matplotlib!=3.6.1,>=3.4 in c:\\users\\lab5-studentpc05\\appdata\\local\\packages\\pythonsoftwarefoundation.python.3.13_qbz5n2kfra8p0\\localcache\\local-packages\\python313\\site-packages (from seaborn) (3.10.0)\n",
      "Requirement already satisfied: contourpy>=1.0.1 in c:\\users\\lab5-studentpc05\\appdata\\local\\packages\\pythonsoftwarefoundation.python.3.13_qbz5n2kfra8p0\\localcache\\local-packages\\python313\\site-packages (from matplotlib!=3.6.1,>=3.4->seaborn) (1.3.1)\n",
      "Requirement already satisfied: cycler>=0.10 in c:\\users\\lab5-studentpc05\\appdata\\local\\packages\\pythonsoftwarefoundation.python.3.13_qbz5n2kfra8p0\\localcache\\local-packages\\python313\\site-packages (from matplotlib!=3.6.1,>=3.4->seaborn) (0.12.1)\n",
      "Requirement already satisfied: fonttools>=4.22.0 in c:\\users\\lab5-studentpc05\\appdata\\local\\packages\\pythonsoftwarefoundation.python.3.13_qbz5n2kfra8p0\\localcache\\local-packages\\python313\\site-packages (from matplotlib!=3.6.1,>=3.4->seaborn) (4.55.3)\n",
      "Requirement already satisfied: kiwisolver>=1.3.1 in c:\\users\\lab5-studentpc05\\appdata\\local\\packages\\pythonsoftwarefoundation.python.3.13_qbz5n2kfra8p0\\localcache\\local-packages\\python313\\site-packages (from matplotlib!=3.6.1,>=3.4->seaborn) (1.4.8)\n",
      "Requirement already satisfied: packaging>=20.0 in c:\\users\\lab5-studentpc05\\appdata\\local\\packages\\pythonsoftwarefoundation.python.3.13_qbz5n2kfra8p0\\localcache\\local-packages\\python313\\site-packages (from matplotlib!=3.6.1,>=3.4->seaborn) (24.2)\n",
      "Requirement already satisfied: pillow>=8 in c:\\users\\lab5-studentpc05\\appdata\\local\\packages\\pythonsoftwarefoundation.python.3.13_qbz5n2kfra8p0\\localcache\\local-packages\\python313\\site-packages (from matplotlib!=3.6.1,>=3.4->seaborn) (11.1.0)\n",
      "Requirement already satisfied: pyparsing>=2.3.1 in c:\\users\\lab5-studentpc05\\appdata\\local\\packages\\pythonsoftwarefoundation.python.3.13_qbz5n2kfra8p0\\localcache\\local-packages\\python313\\site-packages (from matplotlib!=3.6.1,>=3.4->seaborn) (3.2.1)\n",
      "Requirement already satisfied: python-dateutil>=2.7 in c:\\users\\lab5-studentpc05\\appdata\\local\\packages\\pythonsoftwarefoundation.python.3.13_qbz5n2kfra8p0\\localcache\\local-packages\\python313\\site-packages (from matplotlib!=3.6.1,>=3.4->seaborn) (2.9.0.post0)\n",
      "Requirement already satisfied: pytz>=2020.1 in c:\\users\\lab5-studentpc05\\appdata\\local\\packages\\pythonsoftwarefoundation.python.3.13_qbz5n2kfra8p0\\localcache\\local-packages\\python313\\site-packages (from pandas>=1.2->seaborn) (2024.2)\n",
      "Requirement already satisfied: tzdata>=2022.7 in c:\\users\\lab5-studentpc05\\appdata\\local\\packages\\pythonsoftwarefoundation.python.3.13_qbz5n2kfra8p0\\localcache\\local-packages\\python313\\site-packages (from pandas>=1.2->seaborn) (2024.2)\n",
      "Requirement already satisfied: six>=1.5 in c:\\users\\lab5-studentpc05\\appdata\\local\\packages\\pythonsoftwarefoundation.python.3.13_qbz5n2kfra8p0\\localcache\\local-packages\\python313\\site-packages (from python-dateutil>=2.7->matplotlib!=3.6.1,>=3.4->seaborn) (1.17.0)\n",
      "Note: you may need to restart the kernel to use updated packages.\n"
     ]
    },
    {
     "name": "stderr",
     "output_type": "stream",
     "text": [
      "\n",
      "[notice] A new release of pip is available: 24.3.1 -> 25.0.1\n",
      "[notice] To update, run: C:\\Users\\LAB5-StudentPC05\\AppData\\Local\\Microsoft\\WindowsApps\\PythonSoftwareFoundation.Python.3.13_qbz5n2kfra8p0\\python.exe -m pip install --upgrade pip\n"
     ]
    }
   ],
   "source": [
    "pip install seaborn"
   ]
  },
  {
   "cell_type": "code",
   "execution_count": 4,
   "id": "e92145bf-1de3-44c7-8996-abb464c82fac",
   "metadata": {},
   "outputs": [
    {
     "name": "stdout",
     "output_type": "stream",
     "text": [
      "Defaulting to user installation because normal site-packages is not writeable\n",
      "Requirement already satisfied: matplotlib in c:\\users\\lab5-studentpc05\\appdata\\local\\packages\\pythonsoftwarefoundation.python.3.13_qbz5n2kfra8p0\\localcache\\local-packages\\python313\\site-packages (3.10.0)\n",
      "Requirement already satisfied: contourpy>=1.0.1 in c:\\users\\lab5-studentpc05\\appdata\\local\\packages\\pythonsoftwarefoundation.python.3.13_qbz5n2kfra8p0\\localcache\\local-packages\\python313\\site-packages (from matplotlib) (1.3.1)\n",
      "Requirement already satisfied: cycler>=0.10 in c:\\users\\lab5-studentpc05\\appdata\\local\\packages\\pythonsoftwarefoundation.python.3.13_qbz5n2kfra8p0\\localcache\\local-packages\\python313\\site-packages (from matplotlib) (0.12.1)\n",
      "Requirement already satisfied: fonttools>=4.22.0 in c:\\users\\lab5-studentpc05\\appdata\\local\\packages\\pythonsoftwarefoundation.python.3.13_qbz5n2kfra8p0\\localcache\\local-packages\\python313\\site-packages (from matplotlib) (4.55.3)\n",
      "Requirement already satisfied: kiwisolver>=1.3.1 in c:\\users\\lab5-studentpc05\\appdata\\local\\packages\\pythonsoftwarefoundation.python.3.13_qbz5n2kfra8p0\\localcache\\local-packages\\python313\\site-packages (from matplotlib) (1.4.8)\n",
      "Requirement already satisfied: numpy>=1.23 in c:\\users\\lab5-studentpc05\\appdata\\local\\packages\\pythonsoftwarefoundation.python.3.13_qbz5n2kfra8p0\\localcache\\local-packages\\python313\\site-packages (from matplotlib) (2.2.2)\n",
      "Requirement already satisfied: packaging>=20.0 in c:\\users\\lab5-studentpc05\\appdata\\local\\packages\\pythonsoftwarefoundation.python.3.13_qbz5n2kfra8p0\\localcache\\local-packages\\python313\\site-packages (from matplotlib) (24.2)\n",
      "Requirement already satisfied: pillow>=8 in c:\\users\\lab5-studentpc05\\appdata\\local\\packages\\pythonsoftwarefoundation.python.3.13_qbz5n2kfra8p0\\localcache\\local-packages\\python313\\site-packages (from matplotlib) (11.1.0)\n",
      "Requirement already satisfied: pyparsing>=2.3.1 in c:\\users\\lab5-studentpc05\\appdata\\local\\packages\\pythonsoftwarefoundation.python.3.13_qbz5n2kfra8p0\\localcache\\local-packages\\python313\\site-packages (from matplotlib) (3.2.1)\n",
      "Requirement already satisfied: python-dateutil>=2.7 in c:\\users\\lab5-studentpc05\\appdata\\local\\packages\\pythonsoftwarefoundation.python.3.13_qbz5n2kfra8p0\\localcache\\local-packages\\python313\\site-packages (from matplotlib) (2.9.0.post0)\n",
      "Requirement already satisfied: six>=1.5 in c:\\users\\lab5-studentpc05\\appdata\\local\\packages\\pythonsoftwarefoundation.python.3.13_qbz5n2kfra8p0\\localcache\\local-packages\\python313\\site-packages (from python-dateutil>=2.7->matplotlib) (1.17.0)\n",
      "Note: you may need to restart the kernel to use updated packages.\n"
     ]
    },
    {
     "name": "stderr",
     "output_type": "stream",
     "text": [
      "\n",
      "[notice] A new release of pip is available: 24.3.1 -> 25.0.1\n",
      "[notice] To update, run: C:\\Users\\LAB5-StudentPC05\\AppData\\Local\\Microsoft\\WindowsApps\\PythonSoftwareFoundation.Python.3.13_qbz5n2kfra8p0\\python.exe -m pip install --upgrade pip\n"
     ]
    }
   ],
   "source": [
    "pip install matplotlib"
   ]
  },
  {
   "cell_type": "markdown",
   "id": "632f41e0-7f65-4838-b192-3f5ad4d174b0",
   "metadata": {},
   "source": [
    "<h2>IMPORTING LIBRARIES</h2>"
   ]
  },
  {
   "cell_type": "code",
   "execution_count": 5,
   "id": "d0e93518-f4da-4a93-b4c2-16e0f8fe599c",
   "metadata": {},
   "outputs": [],
   "source": [
    "import numpy as np \n",
    "import pandas as pd \n",
    "import seaborn as sns \n",
    "import matplotlib.pyplot as plt\n",
    "import warnings\n",
    "warnings.filterwarnings('ignore')"
   ]
  },
  {
   "cell_type": "code",
   "execution_count": 6,
   "id": "7f75bc94-5c50-4261-b792-f460c1f1a14f",
   "metadata": {},
   "outputs": [],
   "source": [
    "accident = pd.read_csv('C:\\\\Users\\\\LAB5-StudentPC05\\\\Desktop\\\\ITD3A\\\\dataset_sioson\\\\accident_data.csv')"
   ]
  },
  {
   "cell_type": "markdown",
   "id": "8071afaa-453f-4c88-91ac-68c9f0221338",
   "metadata": {},
   "source": [
    "<h2>DATA PREPARATION</h2>"
   ]
  },
  {
   "cell_type": "code",
   "execution_count": 7,
   "id": "1a91ffd4-5ae5-4f34-a145-10099f3fc1e4",
   "metadata": {},
   "outputs": [
    {
     "data": {
      "text/html": [
       "<div>\n",
       "<style scoped>\n",
       "    .dataframe tbody tr th:only-of-type {\n",
       "        vertical-align: middle;\n",
       "    }\n",
       "\n",
       "    .dataframe tbody tr th {\n",
       "        vertical-align: top;\n",
       "    }\n",
       "\n",
       "    .dataframe thead th {\n",
       "        text-align: right;\n",
       "    }\n",
       "</style>\n",
       "<table border=\"1\" class=\"dataframe\">\n",
       "  <thead>\n",
       "    <tr style=\"text-align: right;\">\n",
       "      <th></th>\n",
       "      <th>Index</th>\n",
       "      <th>Accident_Severity</th>\n",
       "      <th>Accident Date</th>\n",
       "      <th>Latitude</th>\n",
       "      <th>Light_Conditions</th>\n",
       "      <th>District Area</th>\n",
       "      <th>Longitude</th>\n",
       "      <th>Number_of_Casualties</th>\n",
       "      <th>Number_of_Vehicles</th>\n",
       "      <th>Road_Surface_Conditions</th>\n",
       "      <th>Road_Type</th>\n",
       "      <th>Urban_or_Rural_Area</th>\n",
       "      <th>Weather_Conditions</th>\n",
       "      <th>Vehicle_Type</th>\n",
       "    </tr>\n",
       "  </thead>\n",
       "  <tbody>\n",
       "    <tr>\n",
       "      <th>0</th>\n",
       "      <td>200701BS64157</td>\n",
       "      <td>Serious</td>\n",
       "      <td>05/06/2019</td>\n",
       "      <td>51.506187</td>\n",
       "      <td>Darkness - lights lit</td>\n",
       "      <td>Kensington and Chelsea</td>\n",
       "      <td>-0.209082</td>\n",
       "      <td>1</td>\n",
       "      <td>2</td>\n",
       "      <td>Dry</td>\n",
       "      <td>Single carriageway</td>\n",
       "      <td>Urban</td>\n",
       "      <td>Fine no high winds</td>\n",
       "      <td>Car</td>\n",
       "    </tr>\n",
       "    <tr>\n",
       "      <th>1</th>\n",
       "      <td>200701BS65737</td>\n",
       "      <td>Serious</td>\n",
       "      <td>02/07/2019</td>\n",
       "      <td>51.495029</td>\n",
       "      <td>Daylight</td>\n",
       "      <td>Kensington and Chelsea</td>\n",
       "      <td>-0.173647</td>\n",
       "      <td>1</td>\n",
       "      <td>2</td>\n",
       "      <td>Wet or damp</td>\n",
       "      <td>Single carriageway</td>\n",
       "      <td>Urban</td>\n",
       "      <td>Raining no high winds</td>\n",
       "      <td>Car</td>\n",
       "    </tr>\n",
       "    <tr>\n",
       "      <th>2</th>\n",
       "      <td>200701BS66127</td>\n",
       "      <td>Serious</td>\n",
       "      <td>26/08/2019</td>\n",
       "      <td>51.517715</td>\n",
       "      <td>Darkness - lighting unknown</td>\n",
       "      <td>Kensington and Chelsea</td>\n",
       "      <td>-0.210215</td>\n",
       "      <td>1</td>\n",
       "      <td>3</td>\n",
       "      <td>Dry</td>\n",
       "      <td>NaN</td>\n",
       "      <td>Urban</td>\n",
       "      <td>NaN</td>\n",
       "      <td>Taxi/Private hire car</td>\n",
       "    </tr>\n",
       "    <tr>\n",
       "      <th>3</th>\n",
       "      <td>200701BS66128</td>\n",
       "      <td>Serious</td>\n",
       "      <td>16/08/2019</td>\n",
       "      <td>51.495478</td>\n",
       "      <td>Daylight</td>\n",
       "      <td>Kensington and Chelsea</td>\n",
       "      <td>-0.202731</td>\n",
       "      <td>1</td>\n",
       "      <td>4</td>\n",
       "      <td>Dry</td>\n",
       "      <td>Single carriageway</td>\n",
       "      <td>Urban</td>\n",
       "      <td>Fine no high winds</td>\n",
       "      <td>Bus or coach (17 or more pass seats)</td>\n",
       "    </tr>\n",
       "    <tr>\n",
       "      <th>4</th>\n",
       "      <td>200701BS66837</td>\n",
       "      <td>Slight</td>\n",
       "      <td>03/09/2019</td>\n",
       "      <td>51.488576</td>\n",
       "      <td>Darkness - lights lit</td>\n",
       "      <td>Kensington and Chelsea</td>\n",
       "      <td>-0.192487</td>\n",
       "      <td>1</td>\n",
       "      <td>2</td>\n",
       "      <td>Dry</td>\n",
       "      <td>NaN</td>\n",
       "      <td>Urban</td>\n",
       "      <td>NaN</td>\n",
       "      <td>Other vehicle</td>\n",
       "    </tr>\n",
       "    <tr>\n",
       "      <th>...</th>\n",
       "      <td>...</td>\n",
       "      <td>...</td>\n",
       "      <td>...</td>\n",
       "      <td>...</td>\n",
       "      <td>...</td>\n",
       "      <td>...</td>\n",
       "      <td>...</td>\n",
       "      <td>...</td>\n",
       "      <td>...</td>\n",
       "      <td>...</td>\n",
       "      <td>...</td>\n",
       "      <td>...</td>\n",
       "      <td>...</td>\n",
       "      <td>...</td>\n",
       "    </tr>\n",
       "    <tr>\n",
       "      <th>660674</th>\n",
       "      <td>201091NM01760</td>\n",
       "      <td>Slight</td>\n",
       "      <td>18/02/2022</td>\n",
       "      <td>57.374005</td>\n",
       "      <td>Daylight</td>\n",
       "      <td>Highland</td>\n",
       "      <td>-3.467828</td>\n",
       "      <td>2</td>\n",
       "      <td>1</td>\n",
       "      <td>Dry</td>\n",
       "      <td>Single carriageway</td>\n",
       "      <td>Rural</td>\n",
       "      <td>Fine no high winds</td>\n",
       "      <td>Car</td>\n",
       "    </tr>\n",
       "    <tr>\n",
       "      <th>660675</th>\n",
       "      <td>201091NM01881</td>\n",
       "      <td>Slight</td>\n",
       "      <td>21/02/2022</td>\n",
       "      <td>57.232273</td>\n",
       "      <td>Darkness - no lighting</td>\n",
       "      <td>Highland</td>\n",
       "      <td>-3.809281</td>\n",
       "      <td>1</td>\n",
       "      <td>1</td>\n",
       "      <td>Frost or ice</td>\n",
       "      <td>Single carriageway</td>\n",
       "      <td>Rural</td>\n",
       "      <td>Fine no high winds</td>\n",
       "      <td>Car</td>\n",
       "    </tr>\n",
       "    <tr>\n",
       "      <th>660676</th>\n",
       "      <td>201091NM01935</td>\n",
       "      <td>Slight</td>\n",
       "      <td>23/02/2022</td>\n",
       "      <td>57.585044</td>\n",
       "      <td>Daylight</td>\n",
       "      <td>Highland</td>\n",
       "      <td>-3.862727</td>\n",
       "      <td>1</td>\n",
       "      <td>3</td>\n",
       "      <td>Frost or ice</td>\n",
       "      <td>Single carriageway</td>\n",
       "      <td>Rural</td>\n",
       "      <td>Fine no high winds</td>\n",
       "      <td>Car</td>\n",
       "    </tr>\n",
       "    <tr>\n",
       "      <th>660677</th>\n",
       "      <td>201091NM01964</td>\n",
       "      <td>Serious</td>\n",
       "      <td>23/02/2022</td>\n",
       "      <td>57.214898</td>\n",
       "      <td>Darkness - no lighting</td>\n",
       "      <td>Highland</td>\n",
       "      <td>-3.823997</td>\n",
       "      <td>1</td>\n",
       "      <td>2</td>\n",
       "      <td>Wet or damp</td>\n",
       "      <td>Single carriageway</td>\n",
       "      <td>Rural</td>\n",
       "      <td>Fine no high winds</td>\n",
       "      <td>Motorcycle over 500cc</td>\n",
       "    </tr>\n",
       "    <tr>\n",
       "      <th>660678</th>\n",
       "      <td>201091NM02142</td>\n",
       "      <td>Serious</td>\n",
       "      <td>28/02/2022</td>\n",
       "      <td>57.575210</td>\n",
       "      <td>Daylight</td>\n",
       "      <td>Highland</td>\n",
       "      <td>-3.895673</td>\n",
       "      <td>1</td>\n",
       "      <td>1</td>\n",
       "      <td>Wet or damp</td>\n",
       "      <td>Dual carriageway</td>\n",
       "      <td>Rural</td>\n",
       "      <td>Snowing no high winds</td>\n",
       "      <td>Car</td>\n",
       "    </tr>\n",
       "  </tbody>\n",
       "</table>\n",
       "<p>660679 rows × 14 columns</p>\n",
       "</div>"
      ],
      "text/plain": [
       "                Index Accident_Severity Accident Date   Latitude  \\\n",
       "0       200701BS64157           Serious    05/06/2019  51.506187   \n",
       "1       200701BS65737           Serious    02/07/2019  51.495029   \n",
       "2       200701BS66127           Serious    26/08/2019  51.517715   \n",
       "3       200701BS66128           Serious    16/08/2019  51.495478   \n",
       "4       200701BS66837            Slight    03/09/2019  51.488576   \n",
       "...               ...               ...           ...        ...   \n",
       "660674  201091NM01760            Slight    18/02/2022  57.374005   \n",
       "660675  201091NM01881            Slight    21/02/2022  57.232273   \n",
       "660676  201091NM01935            Slight    23/02/2022  57.585044   \n",
       "660677  201091NM01964           Serious    23/02/2022  57.214898   \n",
       "660678  201091NM02142           Serious    28/02/2022  57.575210   \n",
       "\n",
       "                   Light_Conditions           District Area  Longitude  \\\n",
       "0             Darkness - lights lit  Kensington and Chelsea  -0.209082   \n",
       "1                          Daylight  Kensington and Chelsea  -0.173647   \n",
       "2       Darkness - lighting unknown  Kensington and Chelsea  -0.210215   \n",
       "3                          Daylight  Kensington and Chelsea  -0.202731   \n",
       "4             Darkness - lights lit  Kensington and Chelsea  -0.192487   \n",
       "...                             ...                     ...        ...   \n",
       "660674                     Daylight                Highland  -3.467828   \n",
       "660675       Darkness - no lighting                Highland  -3.809281   \n",
       "660676                     Daylight                Highland  -3.862727   \n",
       "660677       Darkness - no lighting                Highland  -3.823997   \n",
       "660678                     Daylight                Highland  -3.895673   \n",
       "\n",
       "        Number_of_Casualties  Number_of_Vehicles Road_Surface_Conditions  \\\n",
       "0                          1                   2                     Dry   \n",
       "1                          1                   2             Wet or damp   \n",
       "2                          1                   3                     Dry   \n",
       "3                          1                   4                     Dry   \n",
       "4                          1                   2                     Dry   \n",
       "...                      ...                 ...                     ...   \n",
       "660674                     2                   1                     Dry   \n",
       "660675                     1                   1            Frost or ice   \n",
       "660676                     1                   3            Frost or ice   \n",
       "660677                     1                   2             Wet or damp   \n",
       "660678                     1                   1             Wet or damp   \n",
       "\n",
       "                 Road_Type Urban_or_Rural_Area     Weather_Conditions  \\\n",
       "0       Single carriageway               Urban     Fine no high winds   \n",
       "1       Single carriageway               Urban  Raining no high winds   \n",
       "2                      NaN               Urban                    NaN   \n",
       "3       Single carriageway               Urban     Fine no high winds   \n",
       "4                      NaN               Urban                    NaN   \n",
       "...                    ...                 ...                    ...   \n",
       "660674  Single carriageway               Rural     Fine no high winds   \n",
       "660675  Single carriageway               Rural     Fine no high winds   \n",
       "660676  Single carriageway               Rural     Fine no high winds   \n",
       "660677  Single carriageway               Rural     Fine no high winds   \n",
       "660678    Dual carriageway               Rural  Snowing no high winds   \n",
       "\n",
       "                                Vehicle_Type  \n",
       "0                                        Car  \n",
       "1                                        Car  \n",
       "2                      Taxi/Private hire car  \n",
       "3       Bus or coach (17 or more pass seats)  \n",
       "4                              Other vehicle  \n",
       "...                                      ...  \n",
       "660674                                   Car  \n",
       "660675                                   Car  \n",
       "660676                                   Car  \n",
       "660677                 Motorcycle over 500cc  \n",
       "660678                                   Car  \n",
       "\n",
       "[660679 rows x 14 columns]"
      ]
     },
     "execution_count": 7,
     "metadata": {},
     "output_type": "execute_result"
    }
   ],
   "source": [
    "accident"
   ]
  },
  {
   "cell_type": "code",
   "execution_count": 8,
   "id": "aaf3417e-2652-442e-abd2-48f2c5e764de",
   "metadata": {},
   "outputs": [
    {
     "name": "stdout",
     "output_type": "stream",
     "text": [
      "<class 'pandas.core.frame.DataFrame'>\n",
      "RangeIndex: 660679 entries, 0 to 660678\n",
      "Data columns (total 14 columns):\n",
      " #   Column                   Non-Null Count   Dtype  \n",
      "---  ------                   --------------   -----  \n",
      " 0   Index                    660679 non-null  object \n",
      " 1   Accident_Severity        660679 non-null  object \n",
      " 2   Accident Date            660679 non-null  object \n",
      " 3   Latitude                 660654 non-null  float64\n",
      " 4   Light_Conditions         660679 non-null  object \n",
      " 5   District Area            660679 non-null  object \n",
      " 6   Longitude                660653 non-null  float64\n",
      " 7   Number_of_Casualties     660679 non-null  int64  \n",
      " 8   Number_of_Vehicles       660679 non-null  int64  \n",
      " 9   Road_Surface_Conditions  659953 non-null  object \n",
      " 10  Road_Type                656159 non-null  object \n",
      " 11  Urban_or_Rural_Area      660664 non-null  object \n",
      " 12  Weather_Conditions       646551 non-null  object \n",
      " 13  Vehicle_Type             660679 non-null  object \n",
      "dtypes: float64(2), int64(2), object(10)\n",
      "memory usage: 70.6+ MB\n"
     ]
    }
   ],
   "source": [
    "accident.info()"
   ]
  },
  {
   "cell_type": "code",
   "execution_count": 9,
   "id": "15365cd9-4b4a-4707-a857-f0e08071eed1",
   "metadata": {},
   "outputs": [
    {
     "data": {
      "text/html": [
       "<div>\n",
       "<style scoped>\n",
       "    .dataframe tbody tr th:only-of-type {\n",
       "        vertical-align: middle;\n",
       "    }\n",
       "\n",
       "    .dataframe tbody tr th {\n",
       "        vertical-align: top;\n",
       "    }\n",
       "\n",
       "    .dataframe thead th {\n",
       "        text-align: right;\n",
       "    }\n",
       "</style>\n",
       "<table border=\"1\" class=\"dataframe\">\n",
       "  <thead>\n",
       "    <tr style=\"text-align: right;\">\n",
       "      <th></th>\n",
       "      <th>Latitude</th>\n",
       "      <th>Longitude</th>\n",
       "      <th>Number_of_Casualties</th>\n",
       "      <th>Number_of_Vehicles</th>\n",
       "    </tr>\n",
       "  </thead>\n",
       "  <tbody>\n",
       "    <tr>\n",
       "      <th>count</th>\n",
       "      <td>660654.000000</td>\n",
       "      <td>660653.000000</td>\n",
       "      <td>660679.000000</td>\n",
       "      <td>660679.000000</td>\n",
       "    </tr>\n",
       "    <tr>\n",
       "      <th>mean</th>\n",
       "      <td>52.553866</td>\n",
       "      <td>-1.431210</td>\n",
       "      <td>1.357040</td>\n",
       "      <td>1.831255</td>\n",
       "    </tr>\n",
       "    <tr>\n",
       "      <th>std</th>\n",
       "      <td>1.406922</td>\n",
       "      <td>1.383330</td>\n",
       "      <td>0.824847</td>\n",
       "      <td>0.715269</td>\n",
       "    </tr>\n",
       "    <tr>\n",
       "      <th>min</th>\n",
       "      <td>49.914430</td>\n",
       "      <td>-7.516225</td>\n",
       "      <td>1.000000</td>\n",
       "      <td>1.000000</td>\n",
       "    </tr>\n",
       "    <tr>\n",
       "      <th>25%</th>\n",
       "      <td>51.490690</td>\n",
       "      <td>-2.332291</td>\n",
       "      <td>1.000000</td>\n",
       "      <td>1.000000</td>\n",
       "    </tr>\n",
       "    <tr>\n",
       "      <th>50%</th>\n",
       "      <td>52.315641</td>\n",
       "      <td>-1.411667</td>\n",
       "      <td>1.000000</td>\n",
       "      <td>2.000000</td>\n",
       "    </tr>\n",
       "    <tr>\n",
       "      <th>75%</th>\n",
       "      <td>53.453452</td>\n",
       "      <td>-0.232869</td>\n",
       "      <td>1.000000</td>\n",
       "      <td>2.000000</td>\n",
       "    </tr>\n",
       "    <tr>\n",
       "      <th>max</th>\n",
       "      <td>60.757544</td>\n",
       "      <td>1.762010</td>\n",
       "      <td>68.000000</td>\n",
       "      <td>32.000000</td>\n",
       "    </tr>\n",
       "  </tbody>\n",
       "</table>\n",
       "</div>"
      ],
      "text/plain": [
       "            Latitude      Longitude  Number_of_Casualties  Number_of_Vehicles\n",
       "count  660654.000000  660653.000000         660679.000000       660679.000000\n",
       "mean       52.553866      -1.431210              1.357040            1.831255\n",
       "std         1.406922       1.383330              0.824847            0.715269\n",
       "min        49.914430      -7.516225              1.000000            1.000000\n",
       "25%        51.490690      -2.332291              1.000000            1.000000\n",
       "50%        52.315641      -1.411667              1.000000            2.000000\n",
       "75%        53.453452      -0.232869              1.000000            2.000000\n",
       "max        60.757544       1.762010             68.000000           32.000000"
      ]
     },
     "execution_count": 9,
     "metadata": {},
     "output_type": "execute_result"
    }
   ],
   "source": [
    "accident.describe()"
   ]
  },
  {
   "cell_type": "code",
   "execution_count": 10,
   "id": "9d213177-daf1-4623-8f47-a1d94032b26f",
   "metadata": {},
   "outputs": [
    {
     "data": {
      "text/plain": [
       "Index                       object\n",
       "Accident_Severity           object\n",
       "Accident Date               object\n",
       "Latitude                   float64\n",
       "Light_Conditions            object\n",
       "District Area               object\n",
       "Longitude                  float64\n",
       "Number_of_Casualties         int64\n",
       "Number_of_Vehicles           int64\n",
       "Road_Surface_Conditions     object\n",
       "Road_Type                   object\n",
       "Urban_or_Rural_Area         object\n",
       "Weather_Conditions          object\n",
       "Vehicle_Type                object\n",
       "dtype: object"
      ]
     },
     "execution_count": 10,
     "metadata": {},
     "output_type": "execute_result"
    }
   ],
   "source": [
    "accident.dtypes"
   ]
  },
  {
   "cell_type": "markdown",
   "id": "1d4789ca-d553-4ec2-a44e-95b409fa1217",
   "metadata": {},
   "source": [
    "<h2>CONVERTING OBJECT TO DATETIME DATA TYPE</h2>"
   ]
  },
  {
   "cell_type": "code",
   "execution_count": 11,
   "id": "e35c78d3-cf18-4d10-9f99-51c5e853fd44",
   "metadata": {},
   "outputs": [],
   "source": [
    "accident['Accident Date'] = pd.to_datetime(accident['Accident Date'] , dayfirst = True, errors = 'coerce')"
   ]
  },
  {
   "cell_type": "code",
   "execution_count": 12,
   "id": "a1b01f87-4e8e-4d0e-ae60-c6960247dcb4",
   "metadata": {},
   "outputs": [
    {
     "data": {
      "text/plain": [
       "Index                              object\n",
       "Accident_Severity                  object\n",
       "Accident Date              datetime64[ns]\n",
       "Latitude                          float64\n",
       "Light_Conditions                   object\n",
       "District Area                      object\n",
       "Longitude                         float64\n",
       "Number_of_Casualties                int64\n",
       "Number_of_Vehicles                  int64\n",
       "Road_Surface_Conditions            object\n",
       "Road_Type                          object\n",
       "Urban_or_Rural_Area                object\n",
       "Weather_Conditions                 object\n",
       "Vehicle_Type                       object\n",
       "dtype: object"
      ]
     },
     "execution_count": 12,
     "metadata": {},
     "output_type": "execute_result"
    }
   ],
   "source": [
    "accident.dtypes"
   ]
  },
  {
   "cell_type": "code",
   "execution_count": 13,
   "id": "1543ec99-e290-4c27-ae5d-3a68da20e017",
   "metadata": {},
   "outputs": [
    {
     "data": {
      "text/plain": [
       "Index                          0\n",
       "Accident_Severity              0\n",
       "Accident Date                  0\n",
       "Latitude                      25\n",
       "Light_Conditions               0\n",
       "District Area                  0\n",
       "Longitude                     26\n",
       "Number_of_Casualties           0\n",
       "Number_of_Vehicles             0\n",
       "Road_Surface_Conditions      726\n",
       "Road_Type                   4520\n",
       "Urban_or_Rural_Area           15\n",
       "Weather_Conditions         14128\n",
       "Vehicle_Type                   0\n",
       "dtype: int64"
      ]
     },
     "execution_count": 13,
     "metadata": {},
     "output_type": "execute_result"
    }
   ],
   "source": [
    "accident.isnull().sum()"
   ]
  },
  {
   "cell_type": "code",
   "execution_count": 14,
   "id": "83dac24d-2c17-40c9-b2c0-3ceb0d2221e4",
   "metadata": {},
   "outputs": [],
   "source": [
    "accident['Latitude'] = accident['Latitude'].fillna(accident['Latitude'].mode()[0])\n",
    "accident['Longitude'] = accident['Longitude'].fillna(accident['Longitude'].mode()[0])\n",
    "accident['Road_Surface_Conditions'] = accident['Road_Surface_Conditions'].fillna('unknown')\n",
    "accident['Road_Type'] = accident['Road_Type'].fillna(accident['Road_Type'].mode()[0])\n",
    "accident['Urban_or_Rural_Area'] = accident['Urban_or_Rural_Area'].fillna(accident['Urban_or_Rural_Area'].mode()[0])\n",
    "accident['Weather_Conditions'] = accident['Weather_Conditions'].fillna('unknown')"
   ]
  },
  {
   "cell_type": "code",
   "execution_count": 15,
   "id": "7f1e147f-cbf2-4719-82b9-2c7e5048b486",
   "metadata": {},
   "outputs": [],
   "source": [
    "accident['Year'] = accident['Accident Date'].dt.year\n",
    "accident['Month'] = accident['Accident Date'].dt.month\n",
    "accident['Day'] = accident['Accident Date'].dt.day\n",
    "accident['DayofWeek'] = accident['Accident Date'].dt.dayofweek"
   ]
  },
  {
   "cell_type": "code",
   "execution_count": 16,
   "id": "31faef46-42a0-46d6-9ffa-571f660ab9d4",
   "metadata": {},
   "outputs": [],
   "source": [
    "accident['Index'] = accident['Index'].astype('category')\n",
    "accident['Light_Conditions'] = accident['Light_Conditions'].astype('category')\n",
    "accident['Latitude'] = accident['Latitude'].astype('category')\n",
    "accident['Longitude'] = accident['Longitude'].astype('category')\n",
    "accident['District Area'] = accident['District Area'].astype('category')\n",
    "accident['Road_Type'] = accident['Road_Type'].astype('category')\n",
    "accident['Urban_or_Rural_Area'] = accident['Urban_or_Rural_Area'].astype('category')\n",
    "accident['Year'] = accident['Year'].astype('category')\n",
    "accident['Month'] = accident['Month'].astype('category')\n",
    "accident['Day'] = accident['Day'].astype('category')\n",
    "accident['DayofWeek'] = accident['DayofWeek'].astype('category')"
   ]
  },
  {
   "cell_type": "code",
   "execution_count": 17,
   "id": "3ca62e6c-c653-49bb-b62f-b9b9562313a2",
   "metadata": {},
   "outputs": [
    {
     "data": {
      "text/plain": [
       "Index                            category\n",
       "Accident_Severity                  object\n",
       "Accident Date              datetime64[ns]\n",
       "Latitude                         category\n",
       "Light_Conditions                 category\n",
       "District Area                    category\n",
       "Longitude                        category\n",
       "Number_of_Casualties                int64\n",
       "Number_of_Vehicles                  int64\n",
       "Road_Surface_Conditions            object\n",
       "Road_Type                        category\n",
       "Urban_or_Rural_Area              category\n",
       "Weather_Conditions                 object\n",
       "Vehicle_Type                       object\n",
       "Year                             category\n",
       "Month                            category\n",
       "Day                              category\n",
       "DayofWeek                        category\n",
       "dtype: object"
      ]
     },
     "execution_count": 17,
     "metadata": {},
     "output_type": "execute_result"
    }
   ],
   "source": [
    "accident.dtypes"
   ]
  },
  {
   "cell_type": "code",
   "execution_count": 18,
   "id": "b1eb6b6e-b980-46a1-8b0c-1c96e141ed3c",
   "metadata": {},
   "outputs": [
    {
     "data": {
      "text/plain": [
       "Index                      0\n",
       "Accident_Severity          0\n",
       "Accident Date              0\n",
       "Latitude                   0\n",
       "Light_Conditions           0\n",
       "District Area              0\n",
       "Longitude                  0\n",
       "Number_of_Casualties       0\n",
       "Number_of_Vehicles         0\n",
       "Road_Surface_Conditions    0\n",
       "Road_Type                  0\n",
       "Urban_or_Rural_Area        0\n",
       "Weather_Conditions         0\n",
       "Vehicle_Type               0\n",
       "Year                       0\n",
       "Month                      0\n",
       "Day                        0\n",
       "DayofWeek                  0\n",
       "dtype: int64"
      ]
     },
     "execution_count": 18,
     "metadata": {},
     "output_type": "execute_result"
    }
   ],
   "source": [
    "accident.isnull().sum()"
   ]
  },
  {
   "cell_type": "code",
   "execution_count": 19,
   "id": "06fe2840-7a92-4a51-8136-8a00ccdac316",
   "metadata": {},
   "outputs": [],
   "source": [
    "df_2019 = accident[accident['Year'] == 2019]\n",
    "df_2020 = accident[accident['Year'] == 2020]\n",
    "df_2021 = accident[accident['Year'] == 2021]\n",
    "df_2022 = accident[accident['Year'] == 2022]\n"
   ]
  },
  {
   "cell_type": "markdown",
   "id": "79042939-1fbe-4014-a1bd-0815d2c67a99",
   "metadata": {},
   "source": [
    "<h2>INSIGHT #1</h2>"
   ]
  },
  {
   "cell_type": "markdown",
   "id": "5537652d-4687-42dd-b62a-58ce23c6afa1",
   "metadata": {},
   "source": [
    "<h3>What is the total number of accidents in 2022</h3>"
   ]
  },
  {
   "cell_type": "code",
   "execution_count": 20,
   "id": "e177ba8b-c793-4e7d-af79-c88154ed4184",
   "metadata": {},
   "outputs": [],
   "source": [
    "total_accidents = len(df_2022)"
   ]
  },
  {
   "cell_type": "code",
   "execution_count": 21,
   "id": "76f59433-1413-4238-9c30-ccef3a2b5df7",
   "metadata": {},
   "outputs": [
    {
     "data": {
      "text/plain": [
       "144419"
      ]
     },
     "execution_count": 21,
     "metadata": {},
     "output_type": "execute_result"
    }
   ],
   "source": [
    "total_accidents"
   ]
  },
  {
   "cell_type": "markdown",
   "id": "e2b65dfd-4996-4789-a95f-f73214e2fd97",
   "metadata": {},
   "source": [
    "<h3>The total number of accidents occured in 2022 is 144,419.</h3>"
   ]
  },
  {
   "cell_type": "markdown",
   "id": "057ba1c1-2168-4252-a462-40c00bb3f91c",
   "metadata": {},
   "source": [
    "<h2>INSIGHT #2</h2>"
   ]
  },
  {
   "cell_type": "markdown",
   "id": "923b9a72-60b2-4112-aab4-3f4390d37334",
   "metadata": {},
   "source": [
    "<h3>How does the total number of accidents vary across months in 2022?</h3>"
   ]
  },
  {
   "cell_type": "code",
   "execution_count": 22,
   "id": "8e9510e3-8c21-4f1c-b12a-c6c246ab3db8",
   "metadata": {},
   "outputs": [],
   "source": [
    "monthly_accidents = df_2022['Month'].value_counts().sort_index()"
   ]
  },
  {
   "cell_type": "code",
   "execution_count": 23,
   "id": "e07d2603-eb25-4188-823c-2644de3693a7",
   "metadata": {},
   "outputs": [
    {
     "data": {
      "text/plain": [
       "Month\n",
       "1      9967\n",
       "2     10935\n",
       "3     12341\n",
       "4     11510\n",
       "5     12372\n",
       "6     12812\n",
       "7     12653\n",
       "8     12088\n",
       "9     12960\n",
       "10    13534\n",
       "11    13622\n",
       "12     9625\n",
       "Name: count, dtype: int64"
      ]
     },
     "execution_count": 23,
     "metadata": {},
     "output_type": "execute_result"
    }
   ],
   "source": [
    "monthly_accidents"
   ]
  },
  {
   "cell_type": "markdown",
   "id": "fe765b24-34b7-4acf-bda9-a46a2d9fd0f4",
   "metadata": {},
   "source": [
    "<h3>Accidents peak in November , accounting for 9.43% of the total annual accidents, while December sees the lowest number of accidents (6.67% ), likely due to reduced travel during the holiday season.</h3>"
   ]
  },
  {
   "cell_type": "markdown",
   "id": "074413f1-4c11-44e7-a700-e1e7d5d4ed11",
   "metadata": {},
   "source": [
    "<h2>INSIGHT #3</h2>"
   ]
  },
  {
   "cell_type": "markdown",
   "id": "e49b7fba-60c3-4186-a2e8-1f7479787a63",
   "metadata": {},
   "source": [
    "<h3>Which months have the highest number of casualties, and how do they compare across the year?</h3>"
   ]
  },
  {
   "cell_type": "code",
   "execution_count": 24,
   "id": "aac4d5d9-aba5-4ed5-b254-195ecf196553",
   "metadata": {},
   "outputs": [],
   "source": [
    "casualties_by_month = df_2022.groupby('Month')['Number_of_Casualties'].sum()"
   ]
  },
  {
   "cell_type": "code",
   "execution_count": 25,
   "id": "8d05fa32-ea14-4107-90a0-41e23504578e",
   "metadata": {},
   "outputs": [
    {
     "data": {
      "text/plain": [
       "Month\n",
       "1     13163\n",
       "2     14804\n",
       "3     16575\n",
       "4     15767\n",
       "5     16775\n",
       "6     17230\n",
       "7     17201\n",
       "8     16796\n",
       "9     17500\n",
       "10    18287\n",
       "11    18439\n",
       "12    13200\n",
       "Name: Number_of_Casualties, dtype: int64"
      ]
     },
     "execution_count": 25,
     "metadata": {},
     "output_type": "execute_result"
    }
   ],
   "source": [
    "casualties_by_month"
   ]
  },
  {
   "cell_type": "markdown",
   "id": "1d1399ee-1a90-4a23-9f86-b6042595f634",
   "metadata": {},
   "source": [
    "<h3>The most dangerous months are November (18,439 casualties) and October (18,287 casualties) , accounting for the highest casualty counts, while February (14,804 casualties) and January (13,163 casualties) see relatively fewer casualties, likely due to reduced travel or activity during colder months.</h3>"
   ]
  },
  {
   "cell_type": "markdown",
   "id": "773f0c58-d49c-4806-8228-32d7d1bf9c50",
   "metadata": {},
   "source": [
    "<h2>INSIGHT #4</h2>"
   ]
  },
  {
   "cell_type": "markdown",
   "id": "2866ac2f-8c1f-4f79-a5cb-9f9d2d7ca678",
   "metadata": {},
   "source": [
    "<h3>How do weather conditions influence the frequency of accidents?</h3>"
   ]
  },
  {
   "cell_type": "code",
   "execution_count": 26,
   "id": "efc97a47-f56f-4931-814a-e583c76143e8",
   "metadata": {},
   "outputs": [],
   "source": [
    "weather_accidents = df_2022['Weather_Conditions'].value_counts()"
   ]
  },
  {
   "cell_type": "code",
   "execution_count": 27,
   "id": "8a06a535-8691-445f-9ce9-c4b8f86c7b8d",
   "metadata": {},
   "outputs": [
    {
     "data": {
      "text/plain": [
       "Weather_Conditions\n",
       "Fine no high winds       115970\n",
       "Raining no high winds     15195\n",
       "Other                      4300\n",
       "Snowing no high winds      2923\n",
       "unknown                    2654\n",
       "Raining + high winds       1140\n",
       "Fine + high winds          1051\n",
       "Fog or mist                 902\n",
       "Snowing + high winds        284\n",
       "Name: count, dtype: int64"
      ]
     },
     "execution_count": 27,
     "metadata": {},
     "output_type": "execute_result"
    }
   ],
   "source": [
    "weather_accidents"
   ]
  },
  {
   "cell_type": "markdown",
   "id": "fc91400f-5e9f-4d55-a2e9-6aa3bfc32ffa",
   "metadata": {},
   "source": [
    "<h3>The majority of accidents occur under \"Fine no high winds\" conditions, accounting for 63.68% of all accidents, while adverse weather conditions like snow or high winds contribute significantly less, with \"Snowing + high winds\" being the rarest at just 0.16% , highlighting that most accidents happen in clear or mild weather.</h3>"
   ]
  },
  {
   "cell_type": "markdown",
   "id": "583720cc-46d3-4bf2-b039-b518d5d8369c",
   "metadata": {},
   "source": [
    "<h2>INSIGHT #5</h2>"
   ]
  },
  {
   "cell_type": "markdown",
   "id": "8fbd419a-db11-4f09-b0c5-0c6796eac99c",
   "metadata": {},
   "source": [
    "<h3>How does the number of fatal accidents vary by road type?</h3>"
   ]
  },
  {
   "cell_type": "code",
   "execution_count": 28,
   "id": "b7b317f8-7ee6-4f81-804d-2cbd6d4deece",
   "metadata": {},
   "outputs": [],
   "source": [
    "fatal_accidents = df_2022[df_2022['Accident_Severity'] == 'Fatal']\n",
    "fatal_road_accidents = fatal_accidents['Road_Type'].value_counts()"
   ]
  },
  {
   "cell_type": "code",
   "execution_count": 29,
   "id": "b2d80d6d-b15f-4f37-89c5-d6263b32745b",
   "metadata": {},
   "outputs": [
    {
     "data": {
      "text/plain": [
       "Road_Type\n",
       "Single carriageway    1139\n",
       "Dual carriageway       361\n",
       "Roundabout              28\n",
       "One way street          12\n",
       "Slip road                9\n",
       "Name: count, dtype: int64"
      ]
     },
     "execution_count": 29,
     "metadata": {},
     "output_type": "execute_result"
    }
   ],
   "source": [
    "fatal_road_accidents"
   ]
  },
  {
   "cell_type": "markdown",
   "id": "bf81b5d6-f54e-433f-b06c-9914cb2da562",
   "metadata": {},
   "source": [
    "<h3>Fatal accidents are most common on single carriageways , accounting for the majority of cases (1,139 incidents ), while other road types like slip roads (9 incidents ) and one-way streets (12 incidents ) see significantly fewer fatalities, highlighting the higher risk associated with single carriageways.</h3>"
   ]
  },
  {
   "cell_type": "markdown",
   "id": "bbdad32b-ebf1-4be7-9794-9693aac9710b",
   "metadata": {},
   "source": [
    "<h2>INSIGHT #6</h2>"
   ]
  },
  {
   "cell_type": "markdown",
   "id": "0f479d2e-269e-4363-8ea9-7b05ed0837f9",
   "metadata": {},
   "source": [
    "<h3>How are accidents distributed across different severity levels?</h3>"
   ]
  },
  {
   "cell_type": "code",
   "execution_count": 30,
   "id": "29ae4815-40ae-4eb2-84a1-fcadf480f7b7",
   "metadata": {},
   "outputs": [],
   "source": [
    "severity_counts = df_2022['Accident_Severity'].value_counts()"
   ]
  },
  {
   "cell_type": "code",
   "execution_count": 31,
   "id": "b107c95e-88ce-4aa2-8105-c77ed1096294",
   "metadata": {},
   "outputs": [
    {
     "data": {
      "text/plain": [
       "Accident_Severity\n",
       "Slight     124093\n",
       "Serious     18777\n",
       "Fatal        1549\n",
       "Name: count, dtype: int64"
      ]
     },
     "execution_count": 31,
     "metadata": {},
     "output_type": "execute_result"
    }
   ],
   "source": [
    "severity_counts"
   ]
  },
  {
   "cell_type": "markdown",
   "id": "4f35b4a4-0ab3-436d-b1c6-4809079e4fff",
   "metadata": {},
   "source": [
    "<h3>The vast majority of accidents are classified as slight, accounting for 86.13% of all incidents, while serious accidents make up 12.98%, and fatal accidents represent only 1.07%, highlighting the predominance of less severe outcomes in accident data.</h3>"
   ]
  },
  {
   "cell_type": "markdown",
   "id": "7eb7217b-2ec9-4390-ad05-1c4cab925a7e",
   "metadata": {},
   "source": [
    "<h2>INSIGHT #7</h2>"
   ]
  },
  {
   "cell_type": "markdown",
   "id": "74791205-9f6a-4307-a167-4b092e31c550",
   "metadata": {},
   "source": [
    "<h3>How does the number of multi-vehicle accidents vary by month, and what percentage of total multi-vehicle accidents do they represent?</h3>"
   ]
  },
  {
   "cell_type": "code",
   "execution_count": 32,
   "id": "544cb569-285f-450e-aef6-9edaa792f97b",
   "metadata": {},
   "outputs": [],
   "source": [
    "multi_vehicle_accidents = df_2022[df_2022['Number_of_Vehicles'] > 1]\n",
    "multi_vehicle_monthly_accidents = multi_vehicle_accidents['Month'].value_counts().sort_index()"
   ]
  },
  {
   "cell_type": "code",
   "execution_count": 33,
   "id": "b83d6672-e4ba-4f48-9583-2fcbb029a0be",
   "metadata": {},
   "outputs": [
    {
     "data": {
      "text/plain": [
       "Month\n",
       "1     6544\n",
       "2     7378\n",
       "3     8615\n",
       "4     8268\n",
       "5     8770\n",
       "6     9240\n",
       "7     9088\n",
       "8     8721\n",
       "9     9271\n",
       "10    9628\n",
       "11    9473\n",
       "12    6370\n",
       "Name: count, dtype: int64"
      ]
     },
     "execution_count": 33,
     "metadata": {},
     "output_type": "execute_result"
    }
   ],
   "source": [
    "multi_vehicle_monthly_accidents"
   ]
  },
  {
   "cell_type": "markdown",
   "id": "5e93b8c2-c6a4-49eb-a587-a16b9fab9f0e",
   "metadata": {},
   "source": [
    "<h3>Multi-vehicle accidents peak in October (9,628 incidents, 8.75%) and are lowest in December (6,370 incidents, 5.79%), with an overall trend showing higher frequencies during late summer and autumn months, likely due to increased traffic and travel activity.</h3>"
   ]
  },
  {
   "cell_type": "markdown",
   "id": "3b45ff7a-e7f7-4611-a605-7e7904e71aa1",
   "metadata": {},
   "source": [
    "<h2>INSIGHT #8</h2>"
   ]
  },
  {
   "cell_type": "markdown",
   "id": "a77b55a9-94f4-449e-b952-7f723948dfe5",
   "metadata": {},
   "source": [
    "<h3>How do road surface conditions influence the frequency of accidents?</h3>"
   ]
  },
  {
   "cell_type": "code",
   "execution_count": 34,
   "id": "fbfad943-43a0-4a80-a0e9-1a2e2db57286",
   "metadata": {},
   "outputs": [],
   "source": [
    "road_surface_counts = df_2022['Road_Surface_Conditions'].value_counts()"
   ]
  },
  {
   "cell_type": "code",
   "execution_count": 35,
   "id": "1cc1d8c0-6a2a-4920-a1ac-bbac754c7ca2",
   "metadata": {},
   "outputs": [
    {
     "data": {
      "text/plain": [
       "Road_Surface_Conditions\n",
       "Dry                     98684\n",
       "Wet or damp             35694\n",
       "Frost or ice             6813\n",
       "Snow                     2949\n",
       "unknown                   165\n",
       "Flood over 3cm. deep      114\n",
       "Name: count, dtype: int64"
      ]
     },
     "execution_count": 35,
     "metadata": {},
     "output_type": "execute_result"
    }
   ],
   "source": [
    "road_surface_counts"
   ]
  },
  {
   "cell_type": "markdown",
   "id": "442192dc-ba10-4fb7-b896-b13afc827cf4",
   "metadata": {},
   "source": [
    "<h3>The majority of accidents occur on dry roads , accounting for 69.74% of all incidents, while wet or damp conditions contribute 25.20% , and more hazardous conditions like frost, ice, or snow account for less than 5% combined, highlighting that most accidents happen under relatively normal road conditions.</h3>"
   ]
  },
  {
   "cell_type": "markdown",
   "id": "6128bcf0-1d05-4981-8d56-3d81b5de8d03",
   "metadata": {},
   "source": [
    "<h2>INSIGHT #9</h2>"
   ]
  },
  {
   "cell_type": "markdown",
   "id": "a2080df6-e187-4721-b5d8-43be458d3882",
   "metadata": {},
   "source": [
    "<h3>How does the total number of accidents compare across the years 2019 to 2022?</h3>"
   ]
  },
  {
   "cell_type": "code",
   "execution_count": 36,
   "id": "1974d866-ab94-4185-9b4d-c985127d6c02",
   "metadata": {},
   "outputs": [],
   "source": [
    "total_accidents_by_year = accident.groupby('Year').size()"
   ]
  },
  {
   "cell_type": "code",
   "execution_count": 37,
   "id": "954d48a5-cc47-4877-8b31-3b58e7ba3aff",
   "metadata": {},
   "outputs": [
    {
     "data": {
      "text/plain": [
       "Year\n",
       "2019    182115\n",
       "2020    170591\n",
       "2021    163554\n",
       "2022    144419\n",
       "dtype: int64"
      ]
     },
     "execution_count": 37,
     "metadata": {},
     "output_type": "execute_result"
    }
   ],
   "source": [
    "total_accidents_by_year"
   ]
  },
  {
   "cell_type": "markdown",
   "id": "46238f4a-482b-4777-a51d-b1ddb3b51967",
   "metadata": {},
   "source": [
    "<h3>The total number of accidents decreased consistently from 2019 (182,115) to 2022 (144,419), with a 20.7% overall reduction, reflecting a significant downward trend over the four years.</h3>"
   ]
  },
  {
   "cell_type": "markdown",
   "id": "bd5666d7-b3a7-4a13-a37b-ea5092129cf2",
   "metadata": {},
   "source": [
    "<h2>INSIGHT #10</h2>"
   ]
  },
  {
   "cell_type": "markdown",
   "id": "b5297e7f-4809-4cb7-8b41-04944403eda0",
   "metadata": {},
   "source": [
    "<h3>How does the total number of casualties compare across the years 2019 to 2022?</h3>"
   ]
  },
  {
   "cell_type": "code",
   "execution_count": 38,
   "id": "cdd18f49-769e-4e00-b4f6-1410878d0da0",
   "metadata": {},
   "outputs": [],
   "source": [
    "total_casualties_by_year = accident.groupby('Year')['Number_of_Casualties'].sum()"
   ]
  },
  {
   "cell_type": "code",
   "execution_count": 39,
   "id": "340ab839-b118-4d5b-8ff8-d1f00ee84f82",
   "metadata": {},
   "outputs": [
    {
     "data": {
      "text/plain": [
       "Year\n",
       "2019    247780\n",
       "2020    230905\n",
       "2021    222146\n",
       "2022    195737\n",
       "Name: Number_of_Casualties, dtype: int64"
      ]
     },
     "execution_count": 39,
     "metadata": {},
     "output_type": "execute_result"
    }
   ],
   "source": [
    "total_casualties_by_year"
   ]
  },
  {
   "cell_type": "markdown",
   "id": "9ce6fc25-6f1e-4ded-bc7c-fb01fa1c8a94",
   "metadata": {},
   "source": [
    "<h3>The total number of casualties decreased steadily from 2019 (247,780) to 2022 (195,737), reflecting a consistent downward trend over the four years.</h3>"
   ]
  },
  {
   "cell_type": "markdown",
   "id": "2a55b981-710c-499b-9512-e5e01990b488",
   "metadata": {},
   "source": [
    "<h2>INSIGHT #11</h2>"
   ]
  },
  {
   "cell_type": "markdown",
   "id": "bc43796f-11af-4481-be57-ec29e7302f0c",
   "metadata": {},
   "source": [
    "<h3>How does the average number of casualties per accident compare across the years 2019 to 2022?</h3>"
   ]
  },
  {
   "cell_type": "code",
   "execution_count": 40,
   "id": "28e818ac-5399-4879-bbc2-cc76433e9b8a",
   "metadata": {},
   "outputs": [],
   "source": [
    "avg_casualties_by_year = accident.groupby('Year')['Number_of_Casualties'].mean()"
   ]
  },
  {
   "cell_type": "code",
   "execution_count": 41,
   "id": "c152bd88-98f4-4668-a900-5897331614f0",
   "metadata": {},
   "outputs": [
    {
     "data": {
      "text/plain": [
       "Year\n",
       "2019    1.360569\n",
       "2020    1.353559\n",
       "2021    1.358243\n",
       "2022    1.355341\n",
       "Name: Number_of_Casualties, dtype: float64"
      ]
     },
     "execution_count": 41,
     "metadata": {},
     "output_type": "execute_result"
    }
   ],
   "source": [
    "avg_casualties_by_year"
   ]
  },
  {
   "cell_type": "markdown",
   "id": "2f9d2155-e77b-498b-9f4b-5a2a1914b0aa",
   "metadata": {},
   "source": [
    "<h3>The average number of casualties per accident remained relatively stable between 1.35 and 1.36 across all four years, indicating no significant change in the severity of accidents over time.</h3>"
   ]
  },
  {
   "cell_type": "markdown",
   "id": "191042aa-f307-44ba-80ee-e52f03704215",
   "metadata": {},
   "source": [
    "<h2>INSIGHT #12</h2>"
   ]
  },
  {
   "cell_type": "markdown",
   "id": "59e1b381-4a6a-4b1a-96a7-599284cf917a",
   "metadata": {},
   "source": [
    "<h3>How does the number of fatal accidents compare across the years 2019 to 2022?</h3>"
   ]
  },
  {
   "cell_type": "code",
   "execution_count": 42,
   "id": "23ba1806-1b5c-4c66-92d6-b54eca7a4ca3",
   "metadata": {},
   "outputs": [],
   "source": [
    "fatal_accidents = accident[accident['Accident_Severity'] == 'Fatal']\n",
    "fatal_accidents_by_year = fatal_accidents.groupby('Year').size()"
   ]
  },
  {
   "cell_type": "code",
   "execution_count": 43,
   "id": "1e82fedc-b1dc-4035-8a5c-515851af0b11",
   "metadata": {},
   "outputs": [
    {
     "data": {
      "text/plain": [
       "Year\n",
       "2019    2714\n",
       "2020    2341\n",
       "2021    2057\n",
       "2022    1549\n",
       "dtype: int64"
      ]
     },
     "execution_count": 43,
     "metadata": {},
     "output_type": "execute_result"
    }
   ],
   "source": [
    "fatal_accidents_by_year"
   ]
  },
  {
   "cell_type": "markdown",
   "id": "557b9fe5-e73b-4bd3-a485-68c5e267d39c",
   "metadata": {},
   "source": [
    "<h3>The number of fatal accidents decreased consistently from 2019 (2,714) to 2022 (1,549), reflecting a significant downward trend and indicating a reduction in the most severe accident outcomes over the four years.</h3>"
   ]
  },
  {
   "cell_type": "markdown",
   "id": "c4e10d56-835d-4f50-b0cb-9ab0b01faab2",
   "metadata": {},
   "source": [
    "<h2>INSIGHT #13</h2>"
   ]
  },
  {
   "cell_type": "markdown",
   "id": "1b34c9fc-f404-49fd-80da-b0c8c0d92cdc",
   "metadata": {},
   "source": [
    "<h3>How does the distribution of accidents between urban and rural areas compare across the years 2019 to 2022?</h3>"
   ]
  },
  {
   "cell_type": "code",
   "execution_count": 44,
   "id": "00f7e53b-a958-44c0-90d4-e7b726262c49",
   "metadata": {},
   "outputs": [],
   "source": [
    "urban_rural_accidents_by_year = accident.groupby(['Year', 'Urban_or_Rural_Area']).size().unstack()"
   ]
  },
  {
   "cell_type": "code",
   "execution_count": 45,
   "id": "718a9518-1c62-4811-89ac-6d9c3ef0259e",
   "metadata": {},
   "outputs": [
    {
     "data": {
      "text/html": [
       "<div>\n",
       "<style scoped>\n",
       "    .dataframe tbody tr th:only-of-type {\n",
       "        vertical-align: middle;\n",
       "    }\n",
       "\n",
       "    .dataframe tbody tr th {\n",
       "        vertical-align: top;\n",
       "    }\n",
       "\n",
       "    .dataframe thead th {\n",
       "        text-align: right;\n",
       "    }\n",
       "</style>\n",
       "<table border=\"1\" class=\"dataframe\">\n",
       "  <thead>\n",
       "    <tr style=\"text-align: right;\">\n",
       "      <th>Urban_or_Rural_Area</th>\n",
       "      <th>Rural</th>\n",
       "      <th>Unallocated</th>\n",
       "      <th>Urban</th>\n",
       "    </tr>\n",
       "    <tr>\n",
       "      <th>Year</th>\n",
       "      <th></th>\n",
       "      <th></th>\n",
       "      <th></th>\n",
       "    </tr>\n",
       "  </thead>\n",
       "  <tbody>\n",
       "    <tr>\n",
       "      <th>2019</th>\n",
       "      <td>67558</td>\n",
       "      <td>5</td>\n",
       "      <td>114552</td>\n",
       "    </tr>\n",
       "    <tr>\n",
       "      <th>2020</th>\n",
       "      <td>61991</td>\n",
       "      <td>6</td>\n",
       "      <td>108594</td>\n",
       "    </tr>\n",
       "    <tr>\n",
       "      <th>2021</th>\n",
       "      <td>59016</td>\n",
       "      <td>0</td>\n",
       "      <td>104538</td>\n",
       "    </tr>\n",
       "    <tr>\n",
       "      <th>2022</th>\n",
       "      <td>50425</td>\n",
       "      <td>0</td>\n",
       "      <td>93994</td>\n",
       "    </tr>\n",
       "  </tbody>\n",
       "</table>\n",
       "</div>"
      ],
      "text/plain": [
       "Urban_or_Rural_Area  Rural  Unallocated   Urban\n",
       "Year                                           \n",
       "2019                 67558            5  114552\n",
       "2020                 61991            6  108594\n",
       "2021                 59016            0  104538\n",
       "2022                 50425            0   93994"
      ]
     },
     "execution_count": 45,
     "metadata": {},
     "output_type": "execute_result"
    }
   ],
   "source": [
    "urban_rural_accidents_by_year"
   ]
  },
  {
   "cell_type": "markdown",
   "id": "71fa8657-847a-4be2-b601-1bc329165a9e",
   "metadata": {},
   "source": [
    "<h3>Accidents in urban areas consistently outnumber those in rural areas, with urban accidents decreasing from 114,552 in 2019 to 93,994 in 2022, and rural accidents also declining from 67,558 in 2019 to 50,425 in 2022, reflecting an overall reduction in accidents across both settings.</h3>"
   ]
  },
  {
   "cell_type": "markdown",
   "id": "c0a3ea45-4907-4f67-be1f-3766ee70b70b",
   "metadata": {},
   "source": [
    "<h2>INSIGHT #14</h2>"
   ]
  },
  {
   "cell_type": "markdown",
   "id": "7faeb29e-b36b-47bd-abdd-be679246563d",
   "metadata": {},
   "source": [
    "<h3>How does the total number of casualties by road type compare across the years 2019 to 2022?</h3>"
   ]
  },
  {
   "cell_type": "code",
   "execution_count": 46,
   "id": "11ac8d48-3e21-43ba-8661-02b3995b19f4",
   "metadata": {},
   "outputs": [],
   "source": [
    "casualties_by_road_type = accident.groupby(['Year', 'Road_Type'])['Number_of_Casualties'].sum().unstack()"
   ]
  },
  {
   "cell_type": "code",
   "execution_count": 47,
   "id": "98d7c371-337b-4568-abee-959f09f7c622",
   "metadata": {},
   "outputs": [
    {
     "data": {
      "text/html": [
       "<div>\n",
       "<style scoped>\n",
       "    .dataframe tbody tr th:only-of-type {\n",
       "        vertical-align: middle;\n",
       "    }\n",
       "\n",
       "    .dataframe tbody tr th {\n",
       "        vertical-align: top;\n",
       "    }\n",
       "\n",
       "    .dataframe thead th {\n",
       "        text-align: right;\n",
       "    }\n",
       "</style>\n",
       "<table border=\"1\" class=\"dataframe\">\n",
       "  <thead>\n",
       "    <tr style=\"text-align: right;\">\n",
       "      <th>Road_Type</th>\n",
       "      <th>Dual carriageway</th>\n",
       "      <th>One way street</th>\n",
       "      <th>Roundabout</th>\n",
       "      <th>Single carriageway</th>\n",
       "      <th>Slip road</th>\n",
       "    </tr>\n",
       "    <tr>\n",
       "      <th>Year</th>\n",
       "      <th></th>\n",
       "      <th></th>\n",
       "      <th></th>\n",
       "      <th></th>\n",
       "      <th></th>\n",
       "    </tr>\n",
       "  </thead>\n",
       "  <tbody>\n",
       "    <tr>\n",
       "      <th>2019</th>\n",
       "      <td>41549</td>\n",
       "      <td>4570</td>\n",
       "      <td>14798</td>\n",
       "      <td>184053</td>\n",
       "      <td>2810</td>\n",
       "    </tr>\n",
       "    <tr>\n",
       "      <th>2020</th>\n",
       "      <td>37960</td>\n",
       "      <td>4213</td>\n",
       "      <td>14459</td>\n",
       "      <td>171738</td>\n",
       "      <td>2535</td>\n",
       "    </tr>\n",
       "    <tr>\n",
       "      <th>2021</th>\n",
       "      <td>35456</td>\n",
       "      <td>3890</td>\n",
       "      <td>14145</td>\n",
       "      <td>166197</td>\n",
       "      <td>2458</td>\n",
       "    </tr>\n",
       "    <tr>\n",
       "      <th>2022</th>\n",
       "      <td>31912</td>\n",
       "      <td>3499</td>\n",
       "      <td>12683</td>\n",
       "      <td>145422</td>\n",
       "      <td>2221</td>\n",
       "    </tr>\n",
       "  </tbody>\n",
       "</table>\n",
       "</div>"
      ],
      "text/plain": [
       "Road_Type  Dual carriageway  One way street  Roundabout  Single carriageway  \\\n",
       "Year                                                                          \n",
       "2019                  41549            4570       14798              184053   \n",
       "2020                  37960            4213       14459              171738   \n",
       "2021                  35456            3890       14145              166197   \n",
       "2022                  31912            3499       12683              145422   \n",
       "\n",
       "Road_Type  Slip road  \n",
       "Year                  \n",
       "2019            2810  \n",
       "2020            2535  \n",
       "2021            2458  \n",
       "2022            2221  "
      ]
     },
     "execution_count": 47,
     "metadata": {},
     "output_type": "execute_result"
    }
   ],
   "source": [
    "casualties_by_road_type"
   ]
  },
  {
   "cell_type": "markdown",
   "id": "3ff36f64-4c61-403a-a053-88d4b665db75",
   "metadata": {},
   "source": [
    "<h3>Casualties on single carriageways consistently accounted for the largest share, decreasing from 184,053 in 2019 to 145,422 in 2022, while other road types like dual carriageways, one-way streets, roundabouts, and slip roads also showed a general downward trend, reflecting an overall reduction in casualties across all road types.</h3>"
   ]
  },
  {
   "cell_type": "markdown",
   "id": "687368e2-f771-4f1d-b5df-f891601231ec",
   "metadata": {},
   "source": [
    "<h2>INSIGHT #15</h2>"
   ]
  },
  {
   "cell_type": "markdown",
   "id": "9864dc3d-8489-4b76-9fa7-cc83da449f82",
   "metadata": {},
   "source": [
    "<h3>How does the number of accidents under different weather conditions compare across the years 2019 to 2022?</h3>"
   ]
  },
  {
   "cell_type": "code",
   "execution_count": 48,
   "id": "151b14ee-d839-4674-9b37-d157cf1e1cfc",
   "metadata": {},
   "outputs": [],
   "source": [
    "weather_accidents_by_year = accident.groupby(['Year', 'Weather_Conditions']).size().unstack()"
   ]
  },
  {
   "cell_type": "code",
   "execution_count": 49,
   "id": "bb80f93d-5e54-4f8d-a622-95a9419fcf60",
   "metadata": {},
   "outputs": [
    {
     "data": {
      "text/html": [
       "<div>\n",
       "<style scoped>\n",
       "    .dataframe tbody tr th:only-of-type {\n",
       "        vertical-align: middle;\n",
       "    }\n",
       "\n",
       "    .dataframe tbody tr th {\n",
       "        vertical-align: top;\n",
       "    }\n",
       "\n",
       "    .dataframe thead th {\n",
       "        text-align: right;\n",
       "    }\n",
       "</style>\n",
       "<table border=\"1\" class=\"dataframe\">\n",
       "  <thead>\n",
       "    <tr style=\"text-align: right;\">\n",
       "      <th>Weather_Conditions</th>\n",
       "      <th>Fine + high winds</th>\n",
       "      <th>Fine no high winds</th>\n",
       "      <th>Fog or mist</th>\n",
       "      <th>Other</th>\n",
       "      <th>Raining + high winds</th>\n",
       "      <th>Raining no high winds</th>\n",
       "      <th>Snowing + high winds</th>\n",
       "      <th>Snowing no high winds</th>\n",
       "      <th>unknown</th>\n",
       "    </tr>\n",
       "    <tr>\n",
       "      <th>Year</th>\n",
       "      <th></th>\n",
       "      <th></th>\n",
       "      <th></th>\n",
       "      <th></th>\n",
       "      <th></th>\n",
       "      <th></th>\n",
       "      <th></th>\n",
       "      <th></th>\n",
       "      <th></th>\n",
       "    </tr>\n",
       "  </thead>\n",
       "  <tbody>\n",
       "    <tr>\n",
       "      <th>2019</th>\n",
       "      <td>2545</td>\n",
       "      <td>143876</td>\n",
       "      <td>857</td>\n",
       "      <td>4083</td>\n",
       "      <td>2959</td>\n",
       "      <td>22835</td>\n",
       "      <td>146</td>\n",
       "      <td>680</td>\n",
       "      <td>4134</td>\n",
       "    </tr>\n",
       "    <tr>\n",
       "      <th>2020</th>\n",
       "      <td>2861</td>\n",
       "      <td>132513</td>\n",
       "      <td>981</td>\n",
       "      <td>4265</td>\n",
       "      <td>3130</td>\n",
       "      <td>21984</td>\n",
       "      <td>201</td>\n",
       "      <td>719</td>\n",
       "      <td>3937</td>\n",
       "    </tr>\n",
       "    <tr>\n",
       "      <th>2021</th>\n",
       "      <td>2097</td>\n",
       "      <td>128526</td>\n",
       "      <td>788</td>\n",
       "      <td>4502</td>\n",
       "      <td>2386</td>\n",
       "      <td>19682</td>\n",
       "      <td>254</td>\n",
       "      <td>1916</td>\n",
       "      <td>3403</td>\n",
       "    </tr>\n",
       "    <tr>\n",
       "      <th>2022</th>\n",
       "      <td>1051</td>\n",
       "      <td>115970</td>\n",
       "      <td>902</td>\n",
       "      <td>4300</td>\n",
       "      <td>1140</td>\n",
       "      <td>15195</td>\n",
       "      <td>284</td>\n",
       "      <td>2923</td>\n",
       "      <td>2654</td>\n",
       "    </tr>\n",
       "  </tbody>\n",
       "</table>\n",
       "</div>"
      ],
      "text/plain": [
       "Weather_Conditions  Fine + high winds  Fine no high winds  Fog or mist  Other  \\\n",
       "Year                                                                            \n",
       "2019                             2545              143876          857   4083   \n",
       "2020                             2861              132513          981   4265   \n",
       "2021                             2097              128526          788   4502   \n",
       "2022                             1051              115970          902   4300   \n",
       "\n",
       "Weather_Conditions  Raining + high winds  Raining no high winds  \\\n",
       "Year                                                              \n",
       "2019                                2959                  22835   \n",
       "2020                                3130                  21984   \n",
       "2021                                2386                  19682   \n",
       "2022                                1140                  15195   \n",
       "\n",
       "Weather_Conditions  Snowing + high winds  Snowing no high winds  unknown  \n",
       "Year                                                                      \n",
       "2019                                 146                    680     4134  \n",
       "2020                                 201                    719     3937  \n",
       "2021                                 254                   1916     3403  \n",
       "2022                                 284                   2923     2654  "
      ]
     },
     "execution_count": 49,
     "metadata": {},
     "output_type": "execute_result"
    }
   ],
   "source": [
    "weather_accidents_by_year"
   ]
  },
  {
   "cell_type": "markdown",
   "id": "53207fa4-68ec-4775-9a15-9b97be67d1fe",
   "metadata": {},
   "source": [
    "<h3>Accidents occurring in \"Fine no high winds\" conditions consistently accounted for the majority, with a notable decline from 143,876 in 2019 to 115,970 in 2022. Accidents in adverse weather conditions like snow showed variability, while overall accident numbers decreased across all weather categories, reflecting both improved safety and potential changes in driving patterns over the years.</h3>"
   ]
  },
  {
   "cell_type": "markdown",
   "id": "e080c4c9-904d-4386-8a2c-1ead7f618033",
   "metadata": {},
   "source": [
    "<h2>INSIGHT #16</h2>"
   ]
  },
  {
   "cell_type": "markdown",
   "id": "98699038-58e2-4df3-9e3f-2b32bf119aca",
   "metadata": {},
   "source": [
    "<h3>How does the number of multi-vehicle accidents compare across the years 2019 to 2022?</h3>"
   ]
  },
  {
   "cell_type": "code",
   "execution_count": 50,
   "id": "a9733c7f-9b18-4b71-8941-262c1ee348d6",
   "metadata": {},
   "outputs": [],
   "source": [
    "multi_vehicle_accidents = accident[accident['Number_of_Vehicles'] > 1]\n",
    "multi_vehicle_by_year = multi_vehicle_accidents.groupby('Year').size()"
   ]
  },
  {
   "cell_type": "code",
   "execution_count": 51,
   "id": "7c108e5b-32ac-41ee-a63a-062568774616",
   "metadata": {},
   "outputs": [
    {
     "data": {
      "text/plain": [
       "Year\n",
       "2019    127182\n",
       "2020    118086\n",
       "2021    113258\n",
       "2022    101366\n",
       "dtype: int64"
      ]
     },
     "execution_count": 51,
     "metadata": {},
     "output_type": "execute_result"
    }
   ],
   "source": [
    "multi_vehicle_by_year"
   ]
  },
  {
   "cell_type": "markdown",
   "id": "824ed0b8-690d-46b9-b357-a0cb7d2129b2",
   "metadata": {},
   "source": [
    "<h3>The number of multi-vehicle accidents decreased consistently from 127,182 in 2019 to 101,366 in 2022, reflecting a steady downward trend and indicating a reduction in such incidents over the four years.</h3>"
   ]
  },
  {
   "cell_type": "markdown",
   "id": "e4704068-1822-4732-bf6a-b44dc0085d32",
   "metadata": {},
   "source": [
    "<h2>INSIGHT #17</h2>"
   ]
  },
  {
   "cell_type": "markdown",
   "id": "209c74f3-f08b-47ec-9449-c7e49b54d0e7",
   "metadata": {},
   "source": [
    "<h3>How does the number of accidents vary by month across the years 2019 to 2022?</h3>"
   ]
  },
  {
   "cell_type": "code",
   "execution_count": 52,
   "id": "a5eb58b5-8d7b-4a01-959a-44f8215ae59e",
   "metadata": {},
   "outputs": [],
   "source": [
    "monthly_accidents_by_year = accident.groupby(['Year', 'Month']).size().unstack()"
   ]
  },
  {
   "cell_type": "code",
   "execution_count": 53,
   "id": "c79471f8-c952-4016-aac7-a9115e70d54c",
   "metadata": {},
   "outputs": [
    {
     "data": {
      "text/html": [
       "<div>\n",
       "<style scoped>\n",
       "    .dataframe tbody tr th:only-of-type {\n",
       "        vertical-align: middle;\n",
       "    }\n",
       "\n",
       "    .dataframe tbody tr th {\n",
       "        vertical-align: top;\n",
       "    }\n",
       "\n",
       "    .dataframe thead th {\n",
       "        text-align: right;\n",
       "    }\n",
       "</style>\n",
       "<table border=\"1\" class=\"dataframe\">\n",
       "  <thead>\n",
       "    <tr style=\"text-align: right;\">\n",
       "      <th>Month</th>\n",
       "      <th>1</th>\n",
       "      <th>2</th>\n",
       "      <th>3</th>\n",
       "      <th>4</th>\n",
       "      <th>5</th>\n",
       "      <th>6</th>\n",
       "      <th>7</th>\n",
       "      <th>8</th>\n",
       "      <th>9</th>\n",
       "      <th>10</th>\n",
       "      <th>11</th>\n",
       "      <th>12</th>\n",
       "    </tr>\n",
       "    <tr>\n",
       "      <th>Year</th>\n",
       "      <th></th>\n",
       "      <th></th>\n",
       "      <th></th>\n",
       "      <th></th>\n",
       "      <th></th>\n",
       "      <th></th>\n",
       "      <th></th>\n",
       "      <th></th>\n",
       "      <th></th>\n",
       "      <th></th>\n",
       "      <th></th>\n",
       "      <th></th>\n",
       "    </tr>\n",
       "  </thead>\n",
       "  <tbody>\n",
       "    <tr>\n",
       "      <th>2019</th>\n",
       "      <td>15355</td>\n",
       "      <td>13253</td>\n",
       "      <td>15049</td>\n",
       "      <td>14125</td>\n",
       "      <td>15833</td>\n",
       "      <td>15528</td>\n",
       "      <td>15862</td>\n",
       "      <td>15044</td>\n",
       "      <td>15271</td>\n",
       "      <td>15528</td>\n",
       "      <td>16559</td>\n",
       "      <td>14708</td>\n",
       "    </tr>\n",
       "    <tr>\n",
       "      <th>2020</th>\n",
       "      <td>14133</td>\n",
       "      <td>14353</td>\n",
       "      <td>13494</td>\n",
       "      <td>13394</td>\n",
       "      <td>14336</td>\n",
       "      <td>14205</td>\n",
       "      <td>14630</td>\n",
       "      <td>13366</td>\n",
       "      <td>14432</td>\n",
       "      <td>15684</td>\n",
       "      <td>14770</td>\n",
       "      <td>13794</td>\n",
       "    </tr>\n",
       "    <tr>\n",
       "      <th>2021</th>\n",
       "      <td>13417</td>\n",
       "      <td>10950</td>\n",
       "      <td>13202</td>\n",
       "      <td>12715</td>\n",
       "      <td>13811</td>\n",
       "      <td>13936</td>\n",
       "      <td>14300</td>\n",
       "      <td>13415</td>\n",
       "      <td>13792</td>\n",
       "      <td>14834</td>\n",
       "      <td>15473</td>\n",
       "      <td>13709</td>\n",
       "    </tr>\n",
       "    <tr>\n",
       "      <th>2022</th>\n",
       "      <td>9967</td>\n",
       "      <td>10935</td>\n",
       "      <td>12341</td>\n",
       "      <td>11510</td>\n",
       "      <td>12372</td>\n",
       "      <td>12812</td>\n",
       "      <td>12653</td>\n",
       "      <td>12088</td>\n",
       "      <td>12960</td>\n",
       "      <td>13534</td>\n",
       "      <td>13622</td>\n",
       "      <td>9625</td>\n",
       "    </tr>\n",
       "  </tbody>\n",
       "</table>\n",
       "</div>"
      ],
      "text/plain": [
       "Month      1      2      3      4      5      6      7      8      9     10  \\\n",
       "Year                                                                          \n",
       "2019   15355  13253  15049  14125  15833  15528  15862  15044  15271  15528   \n",
       "2020   14133  14353  13494  13394  14336  14205  14630  13366  14432  15684   \n",
       "2021   13417  10950  13202  12715  13811  13936  14300  13415  13792  14834   \n",
       "2022    9967  10935  12341  11510  12372  12812  12653  12088  12960  13534   \n",
       "\n",
       "Month     11     12  \n",
       "Year                 \n",
       "2019   16559  14708  \n",
       "2020   14770  13794  \n",
       "2021   15473  13709  \n",
       "2022   13622   9625  "
      ]
     },
     "execution_count": 53,
     "metadata": {},
     "output_type": "execute_result"
    }
   ],
   "source": [
    "monthly_accidents_by_year"
   ]
  },
  {
   "cell_type": "markdown",
   "id": "0cb3698c-4d04-4fdf-967d-ce12ca708a93",
   "metadata": {},
   "source": [
    "<h3>Accidents tend to peak in November and December, with a general decline in total monthly accidents over the years. For instance, December saw 14,708 accidents in 2019 but only 9,625 in 2022, reflecting an overall downward trend while maintaining seasonal patterns.</h3>"
   ]
  },
  {
   "cell_type": "markdown",
   "id": "8d7f0994-44d0-4a11-b376-e7f2804d44ca",
   "metadata": {},
   "source": [
    "<h2>INSIGHT #18</h2>"
   ]
  },
  {
   "cell_type": "markdown",
   "id": "4fea8981-3187-4cdb-acaf-62b2ccac20b3",
   "metadata": {},
   "source": [
    "<h3>How does the number of fatal accidents in urban areas compare across the years 2019 to 2022?</h3>"
   ]
  },
  {
   "cell_type": "code",
   "execution_count": 54,
   "id": "c90e4d11-88b6-4075-9478-e92d4786cf15",
   "metadata": {},
   "outputs": [],
   "source": [
    "fatal_urban_accidents = accident[(accident['Accident_Severity'] == 'Fatal') & (accident['Urban_or_Rural_Area'] == 'Urban')]\n",
    "fatal_urban_by_year = fatal_urban_accidents.groupby('Year').size()"
   ]
  },
  {
   "cell_type": "code",
   "execution_count": 55,
   "id": "7b2fc3d2-9b6d-4bca-9239-d50b1cf4930e",
   "metadata": {},
   "outputs": [
    {
     "data": {
      "text/plain": [
       "Year\n",
       "2019    941\n",
       "2020    846\n",
       "2021    734\n",
       "2022    539\n",
       "dtype: int64"
      ]
     },
     "execution_count": 55,
     "metadata": {},
     "output_type": "execute_result"
    }
   ],
   "source": [
    "fatal_urban_by_year"
   ]
  },
  {
   "cell_type": "markdown",
   "id": "3ba3dbae-e7d3-4e0f-a36e-0153fd1fdaa9",
   "metadata": {},
   "source": [
    "<h3>Fatal accidents in urban areas decreased consistently from 941 in 2019 to 539 in 2022, reflecting a significant downward trend and indicating improved safety measures or reduced exposure to high-risk scenarios in urban settings over the years.</h3>"
   ]
  },
  {
   "cell_type": "markdown",
   "id": "ad16d77c-18da-4f23-8d52-5f5691b6b355",
   "metadata": {},
   "source": [
    "<h2>INSIGHT #19</h2>"
   ]
  },
  {
   "cell_type": "markdown",
   "id": "73fe5ea8-0176-496c-a806-97eb23ee95a4",
   "metadata": {},
   "source": [
    "<h3>How does the number of multi-vehicle accidents on single carriageways compare across the years 2019 to 2022?</h3>"
   ]
  },
  {
   "cell_type": "code",
   "execution_count": 56,
   "id": "b6189587-bd68-43de-ad25-2a3a13fb77d1",
   "metadata": {},
   "outputs": [],
   "source": [
    "multi_vehicle_single_accidents = accident[(accident['Number_of_Vehicles'] > 1) & (accident['Road_Type'] == 'Single carriageway')]\n",
    "multi_vehicle_single_by_year = multi_vehicle_single_accidents.groupby('Year').size()"
   ]
  },
  {
   "cell_type": "code",
   "execution_count": 57,
   "id": "e906eb5d-ac33-4231-b065-0ac930959cdf",
   "metadata": {},
   "outputs": [
    {
     "data": {
      "text/plain": [
       "Year\n",
       "2019    92972\n",
       "2020    86278\n",
       "2021    83240\n",
       "2022    74101\n",
       "dtype: int64"
      ]
     },
     "execution_count": 57,
     "metadata": {},
     "output_type": "execute_result"
    }
   ],
   "source": [
    "multi_vehicle_single_by_year"
   ]
  },
  {
   "cell_type": "markdown",
   "id": "a06d9845-30b4-47d2-9162-a4cd3ceb9e40",
   "metadata": {},
   "source": [
    "<h3>The number of multi-vehicle accidents on single carriageways decreased steadily from 92,972 in 2019 to 74,101 in 2022, indicating a consistent downward trend and suggesting improvements in road safety or changes in traffic patterns on these road types over the years.</h3>"
   ]
  },
  {
   "cell_type": "markdown",
   "id": "783da9fa-ce60-4ded-bb1f-a02a4eda0790",
   "metadata": {},
   "source": [
    "<h2>INSIGHT #20</h2>"
   ]
  },
  {
   "cell_type": "markdown",
   "id": "79aeafcb-8ae3-4cc8-99f9-925959c26609",
   "metadata": {},
   "source": [
    "<h3>How does the number of daylight accidents in rural areas compare across the years 2019 to 2022?</h3>"
   ]
  },
  {
   "cell_type": "code",
   "execution_count": 58,
   "id": "9a86c768-260f-4de2-88c6-b318cd1b550a",
   "metadata": {},
   "outputs": [],
   "source": [
    "rural_daylight_accidents = accident[(accident['Urban_or_Rural_Area'] == 'Rural') & (accident['Light_Conditions'] == 'Daylight')]\n",
    "rural_daylight_by_year = rural_daylight_accidents.groupby('Year').size()"
   ]
  },
  {
   "cell_type": "code",
   "execution_count": 59,
   "id": "61741fd2-95da-481b-8fa6-1e026629cc7a",
   "metadata": {},
   "outputs": [
    {
     "data": {
      "text/plain": [
       "Year\n",
       "2019    49359\n",
       "2020    45212\n",
       "2021    43133\n",
       "2022    37646\n",
       "dtype: int64"
      ]
     },
     "execution_count": 59,
     "metadata": {},
     "output_type": "execute_result"
    }
   ],
   "source": [
    "rural_daylight_by_year"
   ]
  },
  {
   "cell_type": "markdown",
   "id": "f56cc6c6-a15a-4654-91b8-a130cb5a1261",
   "metadata": {},
   "source": [
    "<h3>Daylight accidents in rural areas decreased consistently from 49,359 in 2019 to 37,646 in 2022, reflecting a steady downward trend and potentially indicating improvements in road safety or reduced traffic volumes in rural regions over the years.</h3>"
   ]
  },
  {
   "cell_type": "code",
   "execution_count": null,
   "id": "91d8a682-3a6f-4ba1-abfe-c8de54bd358e",
   "metadata": {},
   "outputs": [],
   "source": []
  }
 ],
 "metadata": {
  "kernelspec": {
   "display_name": "Python 3 (ipykernel)",
   "language": "python",
   "name": "python3"
  },
  "language_info": {
   "codemirror_mode": {
    "name": "ipython",
    "version": 3
   },
   "file_extension": ".py",
   "mimetype": "text/x-python",
   "name": "python",
   "nbconvert_exporter": "python",
   "pygments_lexer": "ipython3",
   "version": "3.13.2"
  }
 },
 "nbformat": 4,
 "nbformat_minor": 5
}
